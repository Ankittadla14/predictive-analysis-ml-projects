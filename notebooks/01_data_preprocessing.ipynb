{
 "cells": [
  {
   "cell_type": "markdown",
   "id": "28aba155",
   "metadata": {},
   "source": [
    "## Part 1: Basic exploratory analysis"
   ]
  },
  {
   "cell_type": "code",
   "execution_count": 16,
   "id": "0b8503cb",
   "metadata": {},
   "outputs": [],
   "source": [
    "import numpy as np\n",
    "import pandas as pd"
   ]
  },
  {
   "cell_type": "code",
   "execution_count": 18,
   "id": "b9164da7",
   "metadata": {},
   "outputs": [],
   "source": [
    "# load data file and convert to a pandas dataframe\n",
    "\n",
    "airfare_df = pd.read_csv('Airfares_unprocessed.csv')"
   ]
  },
  {
   "cell_type": "code",
   "execution_count": 20,
   "id": "277f6bea",
   "metadata": {},
   "outputs": [
    {
     "name": "stdout",
     "output_type": "stream",
     "text": [
      "  S_CODE                  S_CITY E_CODE                  E_CITY  COUPON  NEW  \\\n",
      "0      *  Dallas/Fort Worth   TX      *  Amarillo            TX    1.00    3   \n",
      "1      *  Atlanta             GA      *  Baltimore/Wash Intl MD    1.06    3   \n",
      "2      *  Boston              MA      *  Baltimore/Wash Intl MD    1.06    3   \n",
      "3    ORD  Chicago             IL      *  Baltimore/Wash Intl MD    1.06    3   \n",
      "4    MDW  Chicago             IL      *  Baltimore/Wash Intl MD    1.06    3   \n",
      "\n",
      "  VACATION   SW  S_INCOME  E_INCOME    S_POP      E_POP        SLOT  GATE  \\\n",
      "0       No  Yes   28637.0   21112.0  3036732   205711.0        Free  Free   \n",
      "1       No   No   26993.0   29838.0  3532657  7145897.0        Free  Free   \n",
      "2       No   No   30124.0   29838.0  5787293  7145897.0        Free  Free   \n",
      "3       No  Yes   29260.0   29838.0  7830332  7145897.0  Controlled  Free   \n",
      "4       No  Yes   29260.0   29838.0  7830332  7145897.0        Free  Free   \n",
      "\n",
      "   DISTANCE    PAX    FARE  \n",
      "0       312   7864   64.11  \n",
      "1       576   8820  174.47  \n",
      "2       364   6452  207.76  \n",
      "3       612  25144   85.47  \n",
      "4       612  25144   85.47  \n"
     ]
    }
   ],
   "source": [
    "# print first five rows\n",
    "print(airfare_df.head())"
   ]
  },
  {
   "cell_type": "code",
   "execution_count": 22,
   "id": "7129c39f",
   "metadata": {},
   "outputs": [
    {
     "name": "stdout",
     "output_type": "stream",
     "text": [
      "S_CODE       object\n",
      "S_CITY       object\n",
      "E_CODE       object\n",
      "E_CITY       object\n",
      "COUPON      float64\n",
      "NEW           int64\n",
      "VACATION     object\n",
      "SW           object\n",
      "S_INCOME    float64\n",
      "E_INCOME    float64\n",
      "S_POP         int64\n",
      "E_POP       float64\n",
      "SLOT         object\n",
      "GATE         object\n",
      "DISTANCE      int64\n",
      "PAX           int64\n",
      "FARE        float64\n",
      "dtype: object\n"
     ]
    }
   ],
   "source": [
    "# print data types of each column\n",
    "\n",
    "print(airfare_df.dtypes)"
   ]
  },
  {
   "cell_type": "code",
   "execution_count": 24,
   "id": "76167024-390c-41eb-b139-7c4a1d2c9b8f",
   "metadata": {},
   "outputs": [
    {
     "name": "stdout",
     "output_type": "stream",
     "text": [
      "Index(['NEW', 'S_POP', 'DISTANCE', 'PAX'], dtype='object')\n"
     ]
    }
   ],
   "source": [
    "# print \"int\" type columns\n",
    "\n",
    "print(airfare_df.select_dtypes(include=['int']).columns)"
   ]
  },
  {
   "cell_type": "code",
   "execution_count": 26,
   "id": "a49968e1",
   "metadata": {},
   "outputs": [
    {
     "name": "stdout",
     "output_type": "stream",
     "text": [
      "(638, 17)\n",
      "638\n"
     ]
    }
   ],
   "source": [
    "# print the length of the dataframe\n",
    "\n",
    "print(airfare_df.shape)\n",
    "print(airfare_df.shape[0])"
   ]
  },
  {
   "cell_type": "code",
   "execution_count": 28,
   "id": "44792f20",
   "metadata": {},
   "outputs": [
    {
     "name": "stdout",
     "output_type": "stream",
     "text": [
      "S_INCOME    6\n",
      "E_INCOME    2\n",
      "E_POP       5\n",
      "dtype: int64\n"
     ]
    }
   ],
   "source": [
    "# check for null values\n",
    "\n",
    "null_values = airfare_df.isna().sum()\n",
    "column_values = null_values[null_values>0]\n",
    "\n",
    "print(column_values)\n"
   ]
  },
  {
   "cell_type": "code",
   "execution_count": 30,
   "id": "a1ac0b05",
   "metadata": {},
   "outputs": [
    {
     "data": {
      "text/plain": [
       "S_CITY\n",
       "Chicago             IL    90\n",
       "New York/Newark     NY    88\n",
       "Atlanta             GA    41\n",
       "Dallas/Fort Worth   TX    36\n",
       "Los Angeles         CA    33\n",
       "Boston              MA    31\n",
       "Las Vegas           NV    26\n",
       "Detroit             MI    22\n",
       "Denver              CO    22\n",
       "Houston             TX    20\n",
       "Orlando             FL    15\n",
       "Phoenix             AZ    15\n",
       "Seattle/Tacoma      WA    12\n",
       "Minneapolis/St Paul MN    12\n",
       "Miami               FL    11\n",
       "Fort Lauderdale     FL    11\n",
       "Kansas City         MO    11\n",
       "Cleveland           OH    10\n",
       "Austin              TX    10\n",
       "Columbus            OH    10\n",
       "Albuquerque         NM     9\n",
       "San Diego           CA     9\n",
       "San Francisco       CA     8\n",
       "Burbank             CA     7\n",
       "New Orleans         LA     7\n",
       "Oakland             CA     6\n",
       "Philadelphia/Camden PA     6\n",
       "Cincinnati          OH     6\n",
       "Washington          DC     6\n",
       "Hartford            CT     5\n",
       "Fort Meyers         FL     4\n",
       "St Louis            MO     4\n",
       "Tampa               FL     4\n",
       "Greenville/Sprtnbg  SC     3\n",
       "Jacksonville        FL     3\n",
       "Memphis             TN     3\n",
       "Norfolk/Va B/Pt/Ch  VA     3\n",
       "Sacramento          CA     2\n",
       "San Jose            CA     2\n",
       "Corpus Christi      TX     2\n",
       "Baltimore/Wash Intl MD     2\n",
       "Salt Lake City      UT     2\n",
       "El Paso             TX     1\n",
       "Omaha               NE     1\n",
       "Boise               ID     1\n",
       "Honolulu (Intl)     HI     1\n",
       "Nashville           TN     1\n",
       "Spokane             WA     1\n",
       "Portland            OR     1\n",
       "Anchorage           AK     1\n",
       "Pittsburgh          PA     1\n",
       "Name: count, dtype: int64"
      ]
     },
     "execution_count": 30,
     "metadata": {},
     "output_type": "execute_result"
    }
   ],
   "source": [
    "# analyze \"S_CITY\"\n",
    "\n",
    "airfare_df['S_CITY'].value_counts()\n"
   ]
  },
  {
   "cell_type": "code",
   "execution_count": 32,
   "id": "efa376b5",
   "metadata": {},
   "outputs": [
    {
     "data": {
      "text/plain": [
       "E_CITY\n",
       "New York/Newark     NY    75\n",
       "Washington          DC    54\n",
       "Phoenix             AZ    25\n",
       "Baltimore/Wash Intl MD    23\n",
       "Orlando             FL    23\n",
       "                          ..\n",
       "Boston              MA     1\n",
       "Memphis             TN     1\n",
       "El Paso             TX     1\n",
       "Cincinnati          OH     1\n",
       "Amarillo            TX     1\n",
       "Name: count, Length: 68, dtype: int64"
      ]
     },
     "execution_count": 32,
     "metadata": {},
     "output_type": "execute_result"
    }
   ],
   "source": [
    "# analyze \"E_CITY\"\n",
    "\n",
    "airfare_df['E_CITY'].value_counts()"
   ]
  },
  {
   "cell_type": "code",
   "execution_count": 34,
   "id": "ed7d9112",
   "metadata": {},
   "outputs": [
    {
     "data": {
      "text/plain": [
       "SW\n",
       "No     444\n",
       "Yes    194\n",
       "Name: count, dtype: int64"
      ]
     },
     "execution_count": 34,
     "metadata": {},
     "output_type": "execute_result"
    }
   ],
   "source": [
    "# analyze \"SW\"\n",
    "\n",
    "airfare_df['SW'].value_counts()"
   ]
  },
  {
   "cell_type": "code",
   "execution_count": 36,
   "id": "e4fb4812-d48f-4c34-8043-37cf89742100",
   "metadata": {},
   "outputs": [
    {
     "name": "stdout",
     "output_type": "stream",
     "text": [
      "Chicago             IL\n"
     ]
    }
   ],
   "source": [
    "# Most frequntly appearing start city \n",
    "\n",
    "print(airfare_df[\"S_CITY\"].value_counts().idxmax())"
   ]
  },
  {
   "cell_type": "code",
   "execution_count": 38,
   "id": "df6fe43f-b0ee-436b-bb14-14b8f33ff615",
   "metadata": {},
   "outputs": [
    {
     "name": "stdout",
     "output_type": "stream",
     "text": [
      "New York/Newark     NY\n"
     ]
    }
   ],
   "source": [
    "# Most frequntly appearing end city \n",
    "\n",
    "print(airfare_df[\"E_CITY\"].value_counts().idxmax())"
   ]
  },
  {
   "cell_type": "code",
   "execution_count": 40,
   "id": "0b20e424-c1ef-4d84-b03d-a552ff519f77",
   "metadata": {},
   "outputs": [
    {
     "name": "stdout",
     "output_type": "stream",
     "text": [
      "194\n"
     ]
    }
   ],
   "source": [
    "# Number of routes served by Southwest Airlines\n",
    "\n",
    "print(airfare_df[\"SW\"].value_counts().get(\"Yes\", 0))"
   ]
  },
  {
   "cell_type": "markdown",
   "id": "20a503dc",
   "metadata": {},
   "source": [
    "## Part 2: Data preprocessing"
   ]
  },
  {
   "cell_type": "markdown",
   "id": "14f13445",
   "metadata": {},
   "source": [
    "### Part 2.1: Select predictors"
   ]
  },
  {
   "cell_type": "code",
   "execution_count": 44,
   "id": "96a8feea",
   "metadata": {},
   "outputs": [
    {
     "name": "stdout",
     "output_type": "stream",
     "text": [
      "Index(['S_CITY', 'E_CODE', 'E_CITY', 'COUPON', 'NEW', 'VACATION', 'SW',\n",
      "       'S_INCOME', 'E_INCOME', 'S_POP', 'E_POP', 'SLOT', 'GATE', 'DISTANCE',\n",
      "       'PAX', 'FARE'],\n",
      "      dtype='object')\n"
     ]
    }
   ],
   "source": [
    "# drop S_CODE\n",
    "\n",
    "airfare_df = airfare_df.drop('S_CODE', axis =1)\n",
    "\n",
    "print(airfare_df.columns)"
   ]
  },
  {
   "cell_type": "code",
   "execution_count": 46,
   "id": "b3e91335",
   "metadata": {},
   "outputs": [
    {
     "name": "stdout",
     "output_type": "stream",
     "text": [
      "Index(['S_CITY', 'E_CITY', 'COUPON', 'NEW', 'VACATION', 'SW', 'S_INCOME',\n",
      "       'E_INCOME', 'S_POP', 'E_POP', 'SLOT', 'GATE', 'DISTANCE', 'PAX',\n",
      "       'FARE'],\n",
      "      dtype='object')\n"
     ]
    }
   ],
   "source": [
    "# drop any other variables you see fit\n",
    "\n",
    "airfare_df = airfare_df.drop('E_CODE', axis =1)\n",
    "\n",
    "print(airfare_df.columns)"
   ]
  },
  {
   "cell_type": "markdown",
   "id": "d901197a",
   "metadata": {},
   "source": [
    "### Part 2.2: Deal with NA values"
   ]
  },
  {
   "cell_type": "code",
   "execution_count": 49,
   "id": "05c264b5",
   "metadata": {},
   "outputs": [],
   "source": [
    "# populate NA values in S_INCOME with the column mean\n",
    "\n",
    "airfare_df[\"S_INCOME\"] = airfare_df[\"S_INCOME\"].fillna(airfare_df[\"S_INCOME\"].mean())"
   ]
  },
  {
   "cell_type": "code",
   "execution_count": 51,
   "id": "cd233371",
   "metadata": {},
   "outputs": [],
   "source": [
    "# drop all rows from the DataFrame in which E_INCOME and/or E_POP takes an NA value\n",
    "\n",
    "airfare_df.dropna(subset=[\"E_INCOME\", \"E_POP\"], inplace=True)"
   ]
  },
  {
   "cell_type": "code",
   "execution_count": 53,
   "id": "f8c5c067-b81b-441b-a304-91453ac9a8a3",
   "metadata": {},
   "outputs": [
    {
     "name": "stdout",
     "output_type": "stream",
     "text": [
      "S_CITY      0\n",
      "E_CITY      0\n",
      "COUPON      0\n",
      "NEW         0\n",
      "VACATION    0\n",
      "SW          0\n",
      "S_INCOME    0\n",
      "E_INCOME    0\n",
      "S_POP       0\n",
      "E_POP       0\n",
      "SLOT        0\n",
      "GATE        0\n",
      "DISTANCE    0\n",
      "PAX         0\n",
      "FARE        0\n",
      "dtype: int64\n"
     ]
    }
   ],
   "source": [
    "# Checking for missing values\n",
    "\n",
    "print(airfare_df.isnull().sum())"
   ]
  },
  {
   "cell_type": "code",
   "execution_count": 55,
   "id": "a98d41c5-ddee-4eba-8eec-94a2e4ca968f",
   "metadata": {},
   "outputs": [
    {
     "name": "stdout",
     "output_type": "stream",
     "text": [
      "631\n"
     ]
    }
   ],
   "source": [
    "# Rows remaining after handling\n",
    "\n",
    "print(airfare_df.shape[0])"
   ]
  },
  {
   "cell_type": "markdown",
   "id": "7ebbd75b",
   "metadata": {},
   "source": [
    "### Part 2.3: Deal with Categorical Variables"
   ]
  },
  {
   "cell_type": "code",
   "execution_count": 58,
   "id": "ae112fda",
   "metadata": {},
   "outputs": [
    {
     "name": "stdout",
     "output_type": "stream",
     "text": [
      "['S_CITY', 'E_CITY', 'VACATION', 'SW', 'SLOT', 'GATE']\n"
     ]
    }
   ],
   "source": [
    "# First we will see the categorical columns in dataframe\n",
    "\n",
    "categorical_columns = airfare_df.select_dtypes(include=['object', 'category']).columns.tolist()\n",
    "print(categorical_columns)\n",
    "\n",
    "# S_CITY and E_CITY cannot be converted into binary flag variables"
   ]
  },
  {
   "cell_type": "code",
   "execution_count": 60,
   "id": "ff69a187-4b05-4ea2-8f71-67928d29e815",
   "metadata": {},
   "outputs": [],
   "source": [
    "# create binary flag variables for each categorical variable (this can be done with one line of code)\n",
    "\n",
    "airfare_df = pd.get_dummies(airfare_df, columns=['VACATION', 'SW', 'SLOT', 'GATE'], drop_first=True)"
   ]
  },
  {
   "cell_type": "code",
   "execution_count": 62,
   "id": "46cfec1a-9c1a-4bc9-a910-11507b46fddf",
   "metadata": {},
   "outputs": [
    {
     "name": "stdout",
     "output_type": "stream",
     "text": [
      "Index(['S_CITY', 'E_CITY', 'COUPON', 'NEW', 'S_INCOME', 'E_INCOME', 'S_POP',\n",
      "       'E_POP', 'DISTANCE', 'PAX', 'FARE', 'VACATION_Yes', 'SW_Yes',\n",
      "       'SLOT_Free', 'GATE_Free'],\n",
      "      dtype='object')\n",
      "No. of columns: 15\n"
     ]
    }
   ],
   "source": [
    "# Columns after the encoding\n",
    "\n",
    "print(airfare_df.columns)\n",
    "print(\"No. of columns:\", airfare_df.shape[1])"
   ]
  },
  {
   "cell_type": "markdown",
   "id": "23f5fac5",
   "metadata": {},
   "source": [
    "### Part 2.4 Normalize data"
   ]
  },
  {
   "cell_type": "code",
   "execution_count": 65,
   "id": "9a2a7c94",
   "metadata": {},
   "outputs": [],
   "source": [
    "from sklearn import preprocessing\n",
    "from sklearn.preprocessing import MinMaxScaler\n",
    "\n"
   ]
  },
  {
   "cell_type": "code",
   "execution_count": 66,
   "id": "78828d61",
   "metadata": {},
   "outputs": [],
   "source": [
    "# we can take the functionality from sklearn and save it under our own name to make things simpler\n",
    "\n",
    "min_max_scaler = preprocessing.MinMaxScaler()"
   ]
  },
  {
   "cell_type": "code",
   "execution_count": 67,
   "id": "6921023e",
   "metadata": {},
   "outputs": [
    {
     "data": {
      "text/html": [
       "<div>\n",
       "<style scoped>\n",
       "    .dataframe tbody tr th:only-of-type {\n",
       "        vertical-align: middle;\n",
       "    }\n",
       "\n",
       "    .dataframe tbody tr th {\n",
       "        vertical-align: top;\n",
       "    }\n",
       "\n",
       "    .dataframe thead th {\n",
       "        text-align: right;\n",
       "    }\n",
       "</style>\n",
       "<table border=\"1\" class=\"dataframe\">\n",
       "  <thead>\n",
       "    <tr style=\"text-align: right;\">\n",
       "      <th></th>\n",
       "      <th>S_CITY</th>\n",
       "      <th>E_CITY</th>\n",
       "      <th>COUPON</th>\n",
       "      <th>NEW</th>\n",
       "      <th>S_INCOME</th>\n",
       "      <th>E_INCOME</th>\n",
       "      <th>S_POP</th>\n",
       "      <th>E_POP</th>\n",
       "      <th>DISTANCE</th>\n",
       "      <th>PAX</th>\n",
       "      <th>FARE</th>\n",
       "      <th>VACATION_Yes</th>\n",
       "      <th>SW_Yes</th>\n",
       "      <th>SLOT_Free</th>\n",
       "      <th>GATE_Free</th>\n",
       "    </tr>\n",
       "  </thead>\n",
       "  <tbody>\n",
       "    <tr>\n",
       "      <th>0</th>\n",
       "      <td>Dallas/Fort Worth   TX</td>\n",
       "      <td>Amarillo            TX</td>\n",
       "      <td>1.00</td>\n",
       "      <td>3</td>\n",
       "      <td>0.579730</td>\n",
       "      <td>0.268946</td>\n",
       "      <td>0.333128</td>\n",
       "      <td>0.010506</td>\n",
       "      <td>0.074717</td>\n",
       "      <td>0.087860</td>\n",
       "      <td>0.060186</td>\n",
       "      <td>False</td>\n",
       "      <td>True</td>\n",
       "      <td>True</td>\n",
       "      <td>True</td>\n",
       "    </tr>\n",
       "    <tr>\n",
       "      <th>1</th>\n",
       "      <td>Atlanta             GA</td>\n",
       "      <td>Baltimore/Wash Intl MD</td>\n",
       "      <td>1.06</td>\n",
       "      <td>3</td>\n",
       "      <td>0.511832</td>\n",
       "      <td>0.629331</td>\n",
       "      <td>0.388071</td>\n",
       "      <td>0.786437</td>\n",
       "      <td>0.174340</td>\n",
       "      <td>0.101066</td>\n",
       "      <td>0.367126</td>\n",
       "      <td>False</td>\n",
       "      <td>False</td>\n",
       "      <td>True</td>\n",
       "      <td>True</td>\n",
       "    </tr>\n",
       "    <tr>\n",
       "      <th>2</th>\n",
       "      <td>Boston              MA</td>\n",
       "      <td>Baltimore/Wash Intl MD</td>\n",
       "      <td>1.06</td>\n",
       "      <td>3</td>\n",
       "      <td>0.641143</td>\n",
       "      <td>0.629331</td>\n",
       "      <td>0.637858</td>\n",
       "      <td>0.786437</td>\n",
       "      <td>0.094340</td>\n",
       "      <td>0.068354</td>\n",
       "      <td>0.459714</td>\n",
       "      <td>False</td>\n",
       "      <td>False</td>\n",
       "      <td>True</td>\n",
       "      <td>True</td>\n",
       "    </tr>\n",
       "    <tr>\n",
       "      <th>3</th>\n",
       "      <td>Chicago             IL</td>\n",
       "      <td>Baltimore/Wash Intl MD</td>\n",
       "      <td>1.06</td>\n",
       "      <td>3</td>\n",
       "      <td>0.605460</td>\n",
       "      <td>0.629331</td>\n",
       "      <td>0.864202</td>\n",
       "      <td>0.786437</td>\n",
       "      <td>0.187925</td>\n",
       "      <td>0.326573</td>\n",
       "      <td>0.119594</td>\n",
       "      <td>False</td>\n",
       "      <td>True</td>\n",
       "      <td>False</td>\n",
       "      <td>True</td>\n",
       "    </tr>\n",
       "    <tr>\n",
       "      <th>4</th>\n",
       "      <td>Chicago             IL</td>\n",
       "      <td>Baltimore/Wash Intl MD</td>\n",
       "      <td>1.06</td>\n",
       "      <td>3</td>\n",
       "      <td>0.605460</td>\n",
       "      <td>0.629331</td>\n",
       "      <td>0.864202</td>\n",
       "      <td>0.786437</td>\n",
       "      <td>0.187925</td>\n",
       "      <td>0.326573</td>\n",
       "      <td>0.119594</td>\n",
       "      <td>False</td>\n",
       "      <td>True</td>\n",
       "      <td>True</td>\n",
       "      <td>True</td>\n",
       "    </tr>\n",
       "  </tbody>\n",
       "</table>\n",
       "</div>"
      ],
      "text/plain": [
       "                   S_CITY                  E_CITY  COUPON  NEW  S_INCOME  \\\n",
       "0  Dallas/Fort Worth   TX  Amarillo            TX    1.00    3  0.579730   \n",
       "1  Atlanta             GA  Baltimore/Wash Intl MD    1.06    3  0.511832   \n",
       "2  Boston              MA  Baltimore/Wash Intl MD    1.06    3  0.641143   \n",
       "3  Chicago             IL  Baltimore/Wash Intl MD    1.06    3  0.605460   \n",
       "4  Chicago             IL  Baltimore/Wash Intl MD    1.06    3  0.605460   \n",
       "\n",
       "   E_INCOME     S_POP     E_POP  DISTANCE       PAX      FARE  VACATION_Yes  \\\n",
       "0  0.268946  0.333128  0.010506  0.074717  0.087860  0.060186         False   \n",
       "1  0.629331  0.388071  0.786437  0.174340  0.101066  0.367126         False   \n",
       "2  0.629331  0.637858  0.786437  0.094340  0.068354  0.459714         False   \n",
       "3  0.629331  0.864202  0.786437  0.187925  0.326573  0.119594         False   \n",
       "4  0.629331  0.864202  0.786437  0.187925  0.326573  0.119594         False   \n",
       "\n",
       "   SW_Yes  SLOT_Free  GATE_Free  \n",
       "0    True       True       True  \n",
       "1   False       True       True  \n",
       "2   False       True       True  \n",
       "3    True      False       True  \n",
       "4    True       True       True  "
      ]
     },
     "execution_count": 67,
     "metadata": {},
     "output_type": "execute_result"
    }
   ],
   "source": [
    "# and some more code to get you started\n",
    "\n",
    "columns_to_normalize = [\"S_INCOME\",\"E_INCOME\",\"S_POP\",\"E_POP\",\"DISTANCE\",\"PAX\",\"FARE\"]\n",
    "data_to_normalize = airfare_df[columns_to_normalize]\n",
    "data_to_normalize.head()\n",
    "\n",
    "scaler = MinMaxScaler()\n",
    "airfare_df[columns_to_normalize] = scaler.fit_transform(airfare_df[columns_to_normalize])\n",
    "airfare_df.head()"
   ]
  },
  {
   "cell_type": "code",
   "execution_count": 83,
   "id": "82cf4878",
   "metadata": {},
   "outputs": [
    {
     "name": "stdout",
     "output_type": "stream",
     "text": [
      "S_CITY          Albuquerque         NM\n",
      "E_CITY          Amarillo            TX\n",
      "COUPON                             1.0\n",
      "NEW                                  0\n",
      "S_INCOME                           0.0\n",
      "E_INCOME                           0.0\n",
      "S_POP                              0.0\n",
      "E_POP                              0.0\n",
      "DISTANCE                           0.0\n",
      "PAX                                0.0\n",
      "FARE                               0.0\n",
      "VACATION_Yes                     False\n",
      "SW_Yes                           False\n",
      "SLOT_Free                        False\n",
      "GATE_Free                        False\n",
      "dtype: object\n"
     ]
    }
   ],
   "source": [
    "# min values after normalization\n",
    "\n",
    "print(airfare_df.min())"
   ]
  },
  {
   "cell_type": "code",
   "execution_count": 85,
   "id": "889f43d9-702c-46b9-9267-306fd8d3a672",
   "metadata": {},
   "outputs": [
    {
     "name": "stdout",
     "output_type": "stream",
     "text": [
      "S_CITY          Washington          DC\n",
      "E_CITY          West Palm Beach     FL\n",
      "COUPON                            1.94\n",
      "NEW                                  3\n",
      "S_INCOME                           1.0\n",
      "E_INCOME                           1.0\n",
      "S_POP                              1.0\n",
      "E_POP                              1.0\n",
      "DISTANCE                           1.0\n",
      "PAX                                1.0\n",
      "FARE                               1.0\n",
      "VACATION_Yes                      True\n",
      "SW_Yes                            True\n",
      "SLOT_Free                         True\n",
      "GATE_Free                         True\n",
      "dtype: object\n"
     ]
    }
   ],
   "source": [
    "# max values after normalization\n",
    "\n",
    "print(airfare_df.max())"
   ]
  },
  {
   "cell_type": "code",
   "execution_count": null,
   "id": "0d0dae27-7996-4bc0-9e7e-9ff5720cf1b3",
   "metadata": {},
   "outputs": [],
   "source": []
  }
 ],
 "metadata": {
  "kernelspec": {
   "display_name": "Python [conda env:base] *",
   "language": "python",
   "name": "conda-base-py"
  },
  "language_info": {
   "codemirror_mode": {
    "name": "ipython",
    "version": 3
   },
   "file_extension": ".py",
   "mimetype": "text/x-python",
   "name": "python",
   "nbconvert_exporter": "python",
   "pygments_lexer": "ipython3",
   "version": "3.12.7"
  }
 },
 "nbformat": 4,
 "nbformat_minor": 5
}
