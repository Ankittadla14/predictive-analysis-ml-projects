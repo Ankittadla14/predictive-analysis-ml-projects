{
 "cells": [
  {
   "cell_type": "code",
   "execution_count": 28,
   "id": "18e115a4-16ad-4055-bcee-b69b8f3f8d0c",
   "metadata": {},
   "outputs": [],
   "source": [
    "# some imports to get you going\n",
    "\n",
    "import numpy as np\n",
    "import pandas as pd\n",
    "\n",
    "from sklearn.model_selection import train_test_split\n",
    "from sklearn.linear_model import LogisticRegression\n",
    "from sklearn.neighbors import KNeighborsClassifier\n",
    "from sklearn.metrics import f1_score, accuracy_score, confusion_matrix, classification_report"
   ]
  },
  {
   "cell_type": "markdown",
   "id": "6670987c-4e62-46d1-a50e-b7e30dc25b1a",
   "metadata": {},
   "source": [
    "## Part 1: Data exploration and preprocessing"
   ]
  },
  {
   "cell_type": "code",
   "execution_count": 30,
   "id": "36546e45-21f7-41c3-b125-4aaa748862df",
   "metadata": {},
   "outputs": [],
   "source": [
    "# read in data file\n",
    "\n",
    "bank_df = pd.read_csv(\"C:/Users/ankit/Downloads/UniversalBank.csv\")"
   ]
  },
  {
   "cell_type": "markdown",
   "id": "7e1722e6-008a-435e-904b-d59778cb0b71",
   "metadata": {},
   "source": [
    "### Basic Exploratory Analysis"
   ]
  },
  {
   "cell_type": "code",
   "execution_count": 32,
   "id": "58f80c87-9872-4ace-a39a-2c20d6fda5e7",
   "metadata": {},
   "outputs": [
    {
     "name": "stdout",
     "output_type": "stream",
     "text": [
      "   ID  Age  Experience  Income  ZIP Code  Family  CCAvg  Education  Mortgage  \\\n",
      "0   1   25           1      49     91107       4    1.6          1         0   \n",
      "1   2   45          19      34     90089       3    1.5          1         0   \n",
      "2   3   39          15      11     94720       1    1.0          1         0   \n",
      "3   4   35           9     100     94112       1    2.7          2         0   \n",
      "4   5   35           8      45     91330       4    1.0          2         0   \n",
      "5   6   37          13      29     92121       4    0.4          2       155   \n",
      "6   7   53          27      72     91711       2    1.5          2         0   \n",
      "7   8   50          24      22     93943       1    0.3          3         0   \n",
      "8   9   35          10      81     90089       3    0.6          2       104   \n",
      "9  10   34           9     180     93023       1    8.9          3         0   \n",
      "\n",
      "   Personal Loan  CD Account  Online  CreditCard  \n",
      "0              0           0       0           0  \n",
      "1              0           0       0           0  \n",
      "2              0           0       0           0  \n",
      "3              0           0       0           0  \n",
      "4              0           0       0           1  \n",
      "5              0           0       1           0  \n",
      "6              0           0       1           0  \n",
      "7              0           0       0           1  \n",
      "8              0           0       1           0  \n",
      "9              1           0       0           0  \n"
     ]
    }
   ],
   "source": [
    "# check the head of the data frame\n",
    "\n",
    "print(bank_df.head(10))"
   ]
  },
  {
   "cell_type": "code",
   "execution_count": 33,
   "id": "6040ae5b-6fa3-46a0-8687-3848a3208ef9",
   "metadata": {},
   "outputs": [
    {
     "name": "stdout",
     "output_type": "stream",
     "text": [
      "ID                 int64\n",
      "Age                int64\n",
      "Experience         int64\n",
      "Income             int64\n",
      "ZIP Code           int64\n",
      "Family             int64\n",
      "CCAvg            float64\n",
      "Education          int64\n",
      "Mortgage           int64\n",
      "Personal Loan      int64\n",
      "CD Account         int64\n",
      "Online             int64\n",
      "CreditCard         int64\n",
      "dtype: object\n"
     ]
    }
   ],
   "source": [
    "# print the data types of each column\n",
    "\n",
    "print(bank_df.dtypes)"
   ]
  },
  {
   "cell_type": "code",
   "execution_count": 34,
   "id": "d69bd2bb-6a91-42a2-898d-c0281c83227e",
   "metadata": {},
   "outputs": [
    {
     "name": "stdout",
     "output_type": "stream",
     "text": [
      "(5000, 13)\n"
     ]
    }
   ],
   "source": [
    "# print the shape of the data frame \n",
    "\n",
    "print(bank_df.shape)"
   ]
  },
  {
   "cell_type": "code",
   "execution_count": 35,
   "id": "7a796701-84e1-4586-9ba8-0f07d8b8b11c",
   "metadata": {},
   "outputs": [
    {
     "name": "stdout",
     "output_type": "stream",
     "text": [
      "ID               0\n",
      "Age              0\n",
      "Experience       0\n",
      "Income           0\n",
      "ZIP Code         0\n",
      "Family           0\n",
      "CCAvg            0\n",
      "Education        0\n",
      "Mortgage         0\n",
      "Personal Loan    0\n",
      "CD Account       0\n",
      "Online           0\n",
      "CreditCard       0\n",
      "dtype: int64\n"
     ]
    }
   ],
   "source": [
    "# check for null values\n",
    "\n",
    "missing_values = bank_df.isnull().sum()\n",
    "print(missing_values)"
   ]
  },
  {
   "cell_type": "code",
   "execution_count": 36,
   "id": "fed296d9-daca-4092-bdc6-ea9147e6040c",
   "metadata": {},
   "outputs": [
    {
     "name": "stdout",
     "output_type": "stream",
     "text": [
      "Personal Loan\n",
      "0    4520\n",
      "1     480\n",
      "Name: count, dtype: int64\n"
     ]
    }
   ],
   "source": [
    "# Look at the frequency of each occurence in the \"Personal Loan\" column\n",
    "\n",
    "print(bank_df[\"Personal Loan\"].value_counts(dropna=False))"
   ]
  },
  {
   "cell_type": "code",
   "execution_count": 37,
   "id": "b398003b-19f3-4c15-9147-d3af5def2897",
   "metadata": {},
   "outputs": [
    {
     "data": {
      "text/html": [
       "<div>\n",
       "<style scoped>\n",
       "    .dataframe tbody tr th:only-of-type {\n",
       "        vertical-align: middle;\n",
       "    }\n",
       "\n",
       "    .dataframe tbody tr th {\n",
       "        vertical-align: top;\n",
       "    }\n",
       "\n",
       "    .dataframe thead th {\n",
       "        text-align: right;\n",
       "    }\n",
       "</style>\n",
       "<table border=\"1\" class=\"dataframe\">\n",
       "  <thead>\n",
       "    <tr style=\"text-align: right;\">\n",
       "      <th></th>\n",
       "      <th>ID</th>\n",
       "      <th>Age</th>\n",
       "      <th>Experience</th>\n",
       "      <th>Income</th>\n",
       "      <th>Family</th>\n",
       "      <th>CCAvg</th>\n",
       "      <th>Education</th>\n",
       "      <th>Mortgage</th>\n",
       "      <th>CD Account</th>\n",
       "      <th>Online</th>\n",
       "      <th>CreditCard</th>\n",
       "    </tr>\n",
       "  </thead>\n",
       "  <tbody>\n",
       "    <tr>\n",
       "      <th>ID</th>\n",
       "      <td>1.000000</td>\n",
       "      <td>-0.008473</td>\n",
       "      <td>-0.008326</td>\n",
       "      <td>-0.017695</td>\n",
       "      <td>-0.016797</td>\n",
       "      <td>-0.024675</td>\n",
       "      <td>0.021463</td>\n",
       "      <td>-0.013920</td>\n",
       "      <td>-0.006909</td>\n",
       "      <td>-0.002528</td>\n",
       "      <td>0.017028</td>\n",
       "    </tr>\n",
       "    <tr>\n",
       "      <th>Age</th>\n",
       "      <td>-0.008473</td>\n",
       "      <td>1.000000</td>\n",
       "      <td>0.994215</td>\n",
       "      <td>-0.055269</td>\n",
       "      <td>-0.046418</td>\n",
       "      <td>-0.052012</td>\n",
       "      <td>0.041334</td>\n",
       "      <td>-0.012539</td>\n",
       "      <td>0.008043</td>\n",
       "      <td>0.013702</td>\n",
       "      <td>0.007681</td>\n",
       "    </tr>\n",
       "    <tr>\n",
       "      <th>Experience</th>\n",
       "      <td>-0.008326</td>\n",
       "      <td>0.994215</td>\n",
       "      <td>1.000000</td>\n",
       "      <td>-0.046574</td>\n",
       "      <td>-0.052563</td>\n",
       "      <td>-0.050077</td>\n",
       "      <td>0.013152</td>\n",
       "      <td>-0.010582</td>\n",
       "      <td>0.010353</td>\n",
       "      <td>0.013898</td>\n",
       "      <td>0.008967</td>\n",
       "    </tr>\n",
       "    <tr>\n",
       "      <th>Income</th>\n",
       "      <td>-0.017695</td>\n",
       "      <td>-0.055269</td>\n",
       "      <td>-0.046574</td>\n",
       "      <td>1.000000</td>\n",
       "      <td>-0.157501</td>\n",
       "      <td>0.645984</td>\n",
       "      <td>-0.187524</td>\n",
       "      <td>0.206806</td>\n",
       "      <td>0.169738</td>\n",
       "      <td>0.014206</td>\n",
       "      <td>-0.002385</td>\n",
       "    </tr>\n",
       "    <tr>\n",
       "      <th>Family</th>\n",
       "      <td>-0.016797</td>\n",
       "      <td>-0.046418</td>\n",
       "      <td>-0.052563</td>\n",
       "      <td>-0.157501</td>\n",
       "      <td>1.000000</td>\n",
       "      <td>-0.109275</td>\n",
       "      <td>0.064929</td>\n",
       "      <td>-0.020445</td>\n",
       "      <td>0.014110</td>\n",
       "      <td>0.010354</td>\n",
       "      <td>0.011588</td>\n",
       "    </tr>\n",
       "    <tr>\n",
       "      <th>CCAvg</th>\n",
       "      <td>-0.024675</td>\n",
       "      <td>-0.052012</td>\n",
       "      <td>-0.050077</td>\n",
       "      <td>0.645984</td>\n",
       "      <td>-0.109275</td>\n",
       "      <td>1.000000</td>\n",
       "      <td>-0.136124</td>\n",
       "      <td>0.109905</td>\n",
       "      <td>0.136534</td>\n",
       "      <td>-0.003611</td>\n",
       "      <td>-0.006689</td>\n",
       "    </tr>\n",
       "    <tr>\n",
       "      <th>Education</th>\n",
       "      <td>0.021463</td>\n",
       "      <td>0.041334</td>\n",
       "      <td>0.013152</td>\n",
       "      <td>-0.187524</td>\n",
       "      <td>0.064929</td>\n",
       "      <td>-0.136124</td>\n",
       "      <td>1.000000</td>\n",
       "      <td>-0.033327</td>\n",
       "      <td>0.013934</td>\n",
       "      <td>-0.015004</td>\n",
       "      <td>-0.011014</td>\n",
       "    </tr>\n",
       "    <tr>\n",
       "      <th>Mortgage</th>\n",
       "      <td>-0.013920</td>\n",
       "      <td>-0.012539</td>\n",
       "      <td>-0.010582</td>\n",
       "      <td>0.206806</td>\n",
       "      <td>-0.020445</td>\n",
       "      <td>0.109905</td>\n",
       "      <td>-0.033327</td>\n",
       "      <td>1.000000</td>\n",
       "      <td>0.089311</td>\n",
       "      <td>-0.005995</td>\n",
       "      <td>-0.007231</td>\n",
       "    </tr>\n",
       "    <tr>\n",
       "      <th>CD Account</th>\n",
       "      <td>-0.006909</td>\n",
       "      <td>0.008043</td>\n",
       "      <td>0.010353</td>\n",
       "      <td>0.169738</td>\n",
       "      <td>0.014110</td>\n",
       "      <td>0.136534</td>\n",
       "      <td>0.013934</td>\n",
       "      <td>0.089311</td>\n",
       "      <td>1.000000</td>\n",
       "      <td>0.175880</td>\n",
       "      <td>0.278644</td>\n",
       "    </tr>\n",
       "    <tr>\n",
       "      <th>Online</th>\n",
       "      <td>-0.002528</td>\n",
       "      <td>0.013702</td>\n",
       "      <td>0.013898</td>\n",
       "      <td>0.014206</td>\n",
       "      <td>0.010354</td>\n",
       "      <td>-0.003611</td>\n",
       "      <td>-0.015004</td>\n",
       "      <td>-0.005995</td>\n",
       "      <td>0.175880</td>\n",
       "      <td>1.000000</td>\n",
       "      <td>0.004210</td>\n",
       "    </tr>\n",
       "    <tr>\n",
       "      <th>CreditCard</th>\n",
       "      <td>0.017028</td>\n",
       "      <td>0.007681</td>\n",
       "      <td>0.008967</td>\n",
       "      <td>-0.002385</td>\n",
       "      <td>0.011588</td>\n",
       "      <td>-0.006689</td>\n",
       "      <td>-0.011014</td>\n",
       "      <td>-0.007231</td>\n",
       "      <td>0.278644</td>\n",
       "      <td>0.004210</td>\n",
       "      <td>1.000000</td>\n",
       "    </tr>\n",
       "  </tbody>\n",
       "</table>\n",
       "</div>"
      ],
      "text/plain": [
       "                  ID       Age  Experience    Income    Family     CCAvg  \\\n",
       "ID          1.000000 -0.008473   -0.008326 -0.017695 -0.016797 -0.024675   \n",
       "Age        -0.008473  1.000000    0.994215 -0.055269 -0.046418 -0.052012   \n",
       "Experience -0.008326  0.994215    1.000000 -0.046574 -0.052563 -0.050077   \n",
       "Income     -0.017695 -0.055269   -0.046574  1.000000 -0.157501  0.645984   \n",
       "Family     -0.016797 -0.046418   -0.052563 -0.157501  1.000000 -0.109275   \n",
       "CCAvg      -0.024675 -0.052012   -0.050077  0.645984 -0.109275  1.000000   \n",
       "Education   0.021463  0.041334    0.013152 -0.187524  0.064929 -0.136124   \n",
       "Mortgage   -0.013920 -0.012539   -0.010582  0.206806 -0.020445  0.109905   \n",
       "CD Account -0.006909  0.008043    0.010353  0.169738  0.014110  0.136534   \n",
       "Online     -0.002528  0.013702    0.013898  0.014206  0.010354 -0.003611   \n",
       "CreditCard  0.017028  0.007681    0.008967 -0.002385  0.011588 -0.006689   \n",
       "\n",
       "            Education  Mortgage  CD Account    Online  CreditCard  \n",
       "ID           0.021463 -0.013920   -0.006909 -0.002528    0.017028  \n",
       "Age          0.041334 -0.012539    0.008043  0.013702    0.007681  \n",
       "Experience   0.013152 -0.010582    0.010353  0.013898    0.008967  \n",
       "Income      -0.187524  0.206806    0.169738  0.014206   -0.002385  \n",
       "Family       0.064929 -0.020445    0.014110  0.010354    0.011588  \n",
       "CCAvg       -0.136124  0.109905    0.136534 -0.003611   -0.006689  \n",
       "Education    1.000000 -0.033327    0.013934 -0.015004   -0.011014  \n",
       "Mortgage    -0.033327  1.000000    0.089311 -0.005995   -0.007231  \n",
       "CD Account   0.013934  0.089311    1.000000  0.175880    0.278644  \n",
       "Online      -0.015004 -0.005995    0.175880  1.000000    0.004210  \n",
       "CreditCard  -0.011014 -0.007231    0.278644  0.004210    1.000000  "
      ]
     },
     "execution_count": 37,
     "metadata": {},
     "output_type": "execute_result"
    }
   ],
   "source": [
    "# Look at the correlation between all of the predictors\n",
    "\n",
    "predictors_df = bank_df[['ID', 'Age', 'Experience', 'Income', 'Family', 'CCAvg', 'Education',\n",
    "       'Mortgage', 'CD Account', 'Online', 'CreditCard']]\n",
    "response_df = bank_df['Personal Loan']\n",
    "\n",
    "predictors_df.corr(numeric_only=True)"
   ]
  },
  {
   "cell_type": "markdown",
   "id": "ab04a848-c4cd-4f57-a829-a02d57444182",
   "metadata": {},
   "source": [
    "### Data Preprocessing\n"
   ]
  },
  {
   "cell_type": "markdown",
   "id": "84b48ea8-086d-4c39-95c3-43ca38110ad4",
   "metadata": {},
   "source": [
    "#### Drop Predictors"
   ]
  },
  {
   "cell_type": "code",
   "execution_count": 40,
   "id": "8b79693e-b99b-40c6-94f5-0b92a6b3436c",
   "metadata": {},
   "outputs": [
    {
     "data": {
      "text/html": [
       "<div>\n",
       "<style scoped>\n",
       "    .dataframe tbody tr th:only-of-type {\n",
       "        vertical-align: middle;\n",
       "    }\n",
       "\n",
       "    .dataframe tbody tr th {\n",
       "        vertical-align: top;\n",
       "    }\n",
       "\n",
       "    .dataframe thead th {\n",
       "        text-align: right;\n",
       "    }\n",
       "</style>\n",
       "<table border=\"1\" class=\"dataframe\">\n",
       "  <thead>\n",
       "    <tr style=\"text-align: right;\">\n",
       "      <th></th>\n",
       "      <th>Age</th>\n",
       "      <th>Income</th>\n",
       "      <th>Family</th>\n",
       "      <th>CCAvg</th>\n",
       "      <th>Education</th>\n",
       "      <th>Mortgage</th>\n",
       "      <th>CD Account</th>\n",
       "      <th>Online</th>\n",
       "      <th>CreditCard</th>\n",
       "    </tr>\n",
       "  </thead>\n",
       "  <tbody>\n",
       "    <tr>\n",
       "      <th>0</th>\n",
       "      <td>25</td>\n",
       "      <td>49</td>\n",
       "      <td>4</td>\n",
       "      <td>1.6</td>\n",
       "      <td>1</td>\n",
       "      <td>0</td>\n",
       "      <td>0</td>\n",
       "      <td>0</td>\n",
       "      <td>0</td>\n",
       "    </tr>\n",
       "    <tr>\n",
       "      <th>1</th>\n",
       "      <td>45</td>\n",
       "      <td>34</td>\n",
       "      <td>3</td>\n",
       "      <td>1.5</td>\n",
       "      <td>1</td>\n",
       "      <td>0</td>\n",
       "      <td>0</td>\n",
       "      <td>0</td>\n",
       "      <td>0</td>\n",
       "    </tr>\n",
       "    <tr>\n",
       "      <th>2</th>\n",
       "      <td>39</td>\n",
       "      <td>11</td>\n",
       "      <td>1</td>\n",
       "      <td>1.0</td>\n",
       "      <td>1</td>\n",
       "      <td>0</td>\n",
       "      <td>0</td>\n",
       "      <td>0</td>\n",
       "      <td>0</td>\n",
       "    </tr>\n",
       "    <tr>\n",
       "      <th>3</th>\n",
       "      <td>35</td>\n",
       "      <td>100</td>\n",
       "      <td>1</td>\n",
       "      <td>2.7</td>\n",
       "      <td>2</td>\n",
       "      <td>0</td>\n",
       "      <td>0</td>\n",
       "      <td>0</td>\n",
       "      <td>0</td>\n",
       "    </tr>\n",
       "    <tr>\n",
       "      <th>4</th>\n",
       "      <td>35</td>\n",
       "      <td>45</td>\n",
       "      <td>4</td>\n",
       "      <td>1.0</td>\n",
       "      <td>2</td>\n",
       "      <td>0</td>\n",
       "      <td>0</td>\n",
       "      <td>0</td>\n",
       "      <td>1</td>\n",
       "    </tr>\n",
       "  </tbody>\n",
       "</table>\n",
       "</div>"
      ],
      "text/plain": [
       "   Age  Income  Family  CCAvg  Education  Mortgage  CD Account  Online  \\\n",
       "0   25      49       4    1.6          1         0           0       0   \n",
       "1   45      34       3    1.5          1         0           0       0   \n",
       "2   39      11       1    1.0          1         0           0       0   \n",
       "3   35     100       1    2.7          2         0           0       0   \n",
       "4   35      45       4    1.0          2         0           0       0   \n",
       "\n",
       "   CreditCard  \n",
       "0           0  \n",
       "1           0  \n",
       "2           0  \n",
       "3           0  \n",
       "4           1  "
      ]
     },
     "execution_count": 40,
     "metadata": {},
     "output_type": "execute_result"
    }
   ],
   "source": [
    "# drop 'ID' and \"Experience'\n",
    "\n",
    "predictors_df = predictors_df.drop(['ID', 'Experience'], axis=1)\n",
    "predictors_df.head()"
   ]
  },
  {
   "cell_type": "markdown",
   "id": "5066e5d0-c407-41b2-bb48-51028a4d19a6",
   "metadata": {},
   "source": [
    "#### Deal with NA values\n"
   ]
  },
  {
   "cell_type": "code",
   "execution_count": 42,
   "id": "2fc6acd1-f997-4dcc-8954-fbc3ab4f854f",
   "metadata": {},
   "outputs": [
    {
     "name": "stdout",
     "output_type": "stream",
     "text": [
      "Age           0\n",
      "Income        0\n",
      "Family        0\n",
      "CCAvg         0\n",
      "Education     0\n",
      "Mortgage      0\n",
      "CD Account    0\n",
      "Online        0\n",
      "CreditCard    0\n",
      "dtype: int64\n"
     ]
    }
   ],
   "source": [
    "# drop na values\n",
    "\n",
    "bank_df = bank_df.dropna()\n",
    "\n",
    "predictors_df = bank_df[['Age', 'Income', 'Family', 'CCAvg', 'Education',\n",
    "       'Mortgage', 'CD Account', 'Online', 'CreditCard']]\n",
    "response_df = bank_df['Personal Loan']\n",
    "\n",
    "print(predictors_df.isnull().sum())"
   ]
  },
  {
   "cell_type": "markdown",
   "id": "948ace28-d65c-4786-bef3-f61b5364b79b",
   "metadata": {},
   "source": [
    "#### Deal with categorical variables"
   ]
  },
  {
   "cell_type": "code",
   "execution_count": 44,
   "id": "e091ffdb-f4eb-40ac-8629-116d4c59a9e2",
   "metadata": {},
   "outputs": [
    {
     "name": "stdout",
     "output_type": "stream",
     "text": [
      "Education\n",
      "1    2096\n",
      "3    1501\n",
      "2    1403\n",
      "Name: count, dtype: int64\n"
     ]
    },
    {
     "data": {
      "text/html": [
       "<div>\n",
       "<style scoped>\n",
       "    .dataframe tbody tr th:only-of-type {\n",
       "        vertical-align: middle;\n",
       "    }\n",
       "\n",
       "    .dataframe tbody tr th {\n",
       "        vertical-align: top;\n",
       "    }\n",
       "\n",
       "    .dataframe thead th {\n",
       "        text-align: right;\n",
       "    }\n",
       "</style>\n",
       "<table border=\"1\" class=\"dataframe\">\n",
       "  <thead>\n",
       "    <tr style=\"text-align: right;\">\n",
       "      <th></th>\n",
       "      <th>Age</th>\n",
       "      <th>Income</th>\n",
       "      <th>Family</th>\n",
       "      <th>CCAvg</th>\n",
       "      <th>Education</th>\n",
       "      <th>Mortgage</th>\n",
       "      <th>CD Account</th>\n",
       "      <th>Online</th>\n",
       "      <th>CreditCard</th>\n",
       "    </tr>\n",
       "  </thead>\n",
       "  <tbody>\n",
       "    <tr>\n",
       "      <th>Age</th>\n",
       "      <td>1.000000</td>\n",
       "      <td>-0.055269</td>\n",
       "      <td>-0.046418</td>\n",
       "      <td>-0.052012</td>\n",
       "      <td>0.041334</td>\n",
       "      <td>-0.012539</td>\n",
       "      <td>0.008043</td>\n",
       "      <td>0.013702</td>\n",
       "      <td>0.007681</td>\n",
       "    </tr>\n",
       "    <tr>\n",
       "      <th>Income</th>\n",
       "      <td>-0.055269</td>\n",
       "      <td>1.000000</td>\n",
       "      <td>-0.157501</td>\n",
       "      <td>0.645984</td>\n",
       "      <td>-0.187524</td>\n",
       "      <td>0.206806</td>\n",
       "      <td>0.169738</td>\n",
       "      <td>0.014206</td>\n",
       "      <td>-0.002385</td>\n",
       "    </tr>\n",
       "    <tr>\n",
       "      <th>Family</th>\n",
       "      <td>-0.046418</td>\n",
       "      <td>-0.157501</td>\n",
       "      <td>1.000000</td>\n",
       "      <td>-0.109275</td>\n",
       "      <td>0.064929</td>\n",
       "      <td>-0.020445</td>\n",
       "      <td>0.014110</td>\n",
       "      <td>0.010354</td>\n",
       "      <td>0.011588</td>\n",
       "    </tr>\n",
       "    <tr>\n",
       "      <th>CCAvg</th>\n",
       "      <td>-0.052012</td>\n",
       "      <td>0.645984</td>\n",
       "      <td>-0.109275</td>\n",
       "      <td>1.000000</td>\n",
       "      <td>-0.136124</td>\n",
       "      <td>0.109905</td>\n",
       "      <td>0.136534</td>\n",
       "      <td>-0.003611</td>\n",
       "      <td>-0.006689</td>\n",
       "    </tr>\n",
       "    <tr>\n",
       "      <th>Education</th>\n",
       "      <td>0.041334</td>\n",
       "      <td>-0.187524</td>\n",
       "      <td>0.064929</td>\n",
       "      <td>-0.136124</td>\n",
       "      <td>1.000000</td>\n",
       "      <td>-0.033327</td>\n",
       "      <td>0.013934</td>\n",
       "      <td>-0.015004</td>\n",
       "      <td>-0.011014</td>\n",
       "    </tr>\n",
       "    <tr>\n",
       "      <th>Mortgage</th>\n",
       "      <td>-0.012539</td>\n",
       "      <td>0.206806</td>\n",
       "      <td>-0.020445</td>\n",
       "      <td>0.109905</td>\n",
       "      <td>-0.033327</td>\n",
       "      <td>1.000000</td>\n",
       "      <td>0.089311</td>\n",
       "      <td>-0.005995</td>\n",
       "      <td>-0.007231</td>\n",
       "    </tr>\n",
       "    <tr>\n",
       "      <th>CD Account</th>\n",
       "      <td>0.008043</td>\n",
       "      <td>0.169738</td>\n",
       "      <td>0.014110</td>\n",
       "      <td>0.136534</td>\n",
       "      <td>0.013934</td>\n",
       "      <td>0.089311</td>\n",
       "      <td>1.000000</td>\n",
       "      <td>0.175880</td>\n",
       "      <td>0.278644</td>\n",
       "    </tr>\n",
       "    <tr>\n",
       "      <th>Online</th>\n",
       "      <td>0.013702</td>\n",
       "      <td>0.014206</td>\n",
       "      <td>0.010354</td>\n",
       "      <td>-0.003611</td>\n",
       "      <td>-0.015004</td>\n",
       "      <td>-0.005995</td>\n",
       "      <td>0.175880</td>\n",
       "      <td>1.000000</td>\n",
       "      <td>0.004210</td>\n",
       "    </tr>\n",
       "    <tr>\n",
       "      <th>CreditCard</th>\n",
       "      <td>0.007681</td>\n",
       "      <td>-0.002385</td>\n",
       "      <td>0.011588</td>\n",
       "      <td>-0.006689</td>\n",
       "      <td>-0.011014</td>\n",
       "      <td>-0.007231</td>\n",
       "      <td>0.278644</td>\n",
       "      <td>0.004210</td>\n",
       "      <td>1.000000</td>\n",
       "    </tr>\n",
       "  </tbody>\n",
       "</table>\n",
       "</div>"
      ],
      "text/plain": [
       "                 Age    Income    Family     CCAvg  Education  Mortgage  \\\n",
       "Age         1.000000 -0.055269 -0.046418 -0.052012   0.041334 -0.012539   \n",
       "Income     -0.055269  1.000000 -0.157501  0.645984  -0.187524  0.206806   \n",
       "Family     -0.046418 -0.157501  1.000000 -0.109275   0.064929 -0.020445   \n",
       "CCAvg      -0.052012  0.645984 -0.109275  1.000000  -0.136124  0.109905   \n",
       "Education   0.041334 -0.187524  0.064929 -0.136124   1.000000 -0.033327   \n",
       "Mortgage   -0.012539  0.206806 -0.020445  0.109905  -0.033327  1.000000   \n",
       "CD Account  0.008043  0.169738  0.014110  0.136534   0.013934  0.089311   \n",
       "Online      0.013702  0.014206  0.010354 -0.003611  -0.015004 -0.005995   \n",
       "CreditCard  0.007681 -0.002385  0.011588 -0.006689  -0.011014 -0.007231   \n",
       "\n",
       "            CD Account    Online  CreditCard  \n",
       "Age           0.008043  0.013702    0.007681  \n",
       "Income        0.169738  0.014206   -0.002385  \n",
       "Family        0.014110  0.010354    0.011588  \n",
       "CCAvg         0.136534 -0.003611   -0.006689  \n",
       "Education     0.013934 -0.015004   -0.011014  \n",
       "Mortgage      0.089311 -0.005995   -0.007231  \n",
       "CD Account    1.000000  0.175880    0.278644  \n",
       "Online        0.175880  1.000000    0.004210  \n",
       "CreditCard    0.278644  0.004210    1.000000  "
      ]
     },
     "execution_count": 44,
     "metadata": {},
     "output_type": "execute_result"
    }
   ],
   "source": [
    "# flag categorical varibales\n",
    "\n",
    "print(predictors_df['Education'].value_counts())\n",
    "predictors_df1 = pd.get_dummies(predictors_df) \n",
    "predictors_df1.corr()"
   ]
  },
  {
   "cell_type": "code",
   "execution_count": 45,
   "id": "3891d781-7e00-4d88-bbc9-8d8b89a17684",
   "metadata": {},
   "outputs": [
    {
     "name": "stdout",
     "output_type": "stream",
     "text": [
      "(5000, 9)\n"
     ]
    }
   ],
   "source": [
    "# shape of the predictors dataframe\n",
    "\n",
    "print(predictors_df1.shape)"
   ]
  },
  {
   "cell_type": "markdown",
   "id": "8906a712-dfbd-4adf-9a12-96d3d0ec4a01",
   "metadata": {},
   "source": [
    "#### Normalize data"
   ]
  },
  {
   "cell_type": "code",
   "execution_count": 47,
   "id": "0a98682f-6d91-478f-99cb-4a9d9836f120",
   "metadata": {},
   "outputs": [],
   "source": [
    "from sklearn import preprocessing"
   ]
  },
  {
   "cell_type": "code",
   "execution_count": 48,
   "id": "4d3ab53e-777e-447c-a395-9cc9f991b640",
   "metadata": {},
   "outputs": [
    {
     "data": {
      "text/html": [
       "<div>\n",
       "<style scoped>\n",
       "    .dataframe tbody tr th:only-of-type {\n",
       "        vertical-align: middle;\n",
       "    }\n",
       "\n",
       "    .dataframe tbody tr th {\n",
       "        vertical-align: top;\n",
       "    }\n",
       "\n",
       "    .dataframe thead th {\n",
       "        text-align: right;\n",
       "    }\n",
       "</style>\n",
       "<table border=\"1\" class=\"dataframe\">\n",
       "  <thead>\n",
       "    <tr style=\"text-align: right;\">\n",
       "      <th></th>\n",
       "      <th>Age</th>\n",
       "      <th>Income</th>\n",
       "      <th>Family</th>\n",
       "      <th>CCAvg</th>\n",
       "      <th>Education</th>\n",
       "      <th>Mortgage</th>\n",
       "      <th>CD Account</th>\n",
       "      <th>Online</th>\n",
       "      <th>CreditCard</th>\n",
       "    </tr>\n",
       "  </thead>\n",
       "  <tbody>\n",
       "    <tr>\n",
       "      <th>0</th>\n",
       "      <td>-1.774417</td>\n",
       "      <td>-0.538229</td>\n",
       "      <td>1.397414</td>\n",
       "      <td>-0.193385</td>\n",
       "      <td>-1.049078</td>\n",
       "      <td>-0.555524</td>\n",
       "      <td>-0.25354</td>\n",
       "      <td>-1.216618</td>\n",
       "      <td>-0.645314</td>\n",
       "    </tr>\n",
       "    <tr>\n",
       "      <th>1</th>\n",
       "      <td>-0.029524</td>\n",
       "      <td>-0.864109</td>\n",
       "      <td>0.525991</td>\n",
       "      <td>-0.250611</td>\n",
       "      <td>-1.049078</td>\n",
       "      <td>-0.555524</td>\n",
       "      <td>-0.25354</td>\n",
       "      <td>-1.216618</td>\n",
       "      <td>-0.645314</td>\n",
       "    </tr>\n",
       "    <tr>\n",
       "      <th>2</th>\n",
       "      <td>-0.552992</td>\n",
       "      <td>-1.363793</td>\n",
       "      <td>-1.216855</td>\n",
       "      <td>-0.536736</td>\n",
       "      <td>-1.049078</td>\n",
       "      <td>-0.555524</td>\n",
       "      <td>-0.25354</td>\n",
       "      <td>-1.216618</td>\n",
       "      <td>-0.645314</td>\n",
       "    </tr>\n",
       "    <tr>\n",
       "      <th>3</th>\n",
       "      <td>-0.901970</td>\n",
       "      <td>0.569765</td>\n",
       "      <td>-1.216855</td>\n",
       "      <td>0.436091</td>\n",
       "      <td>0.141703</td>\n",
       "      <td>-0.555524</td>\n",
       "      <td>-0.25354</td>\n",
       "      <td>-1.216618</td>\n",
       "      <td>-0.645314</td>\n",
       "    </tr>\n",
       "    <tr>\n",
       "      <th>4</th>\n",
       "      <td>-0.901970</td>\n",
       "      <td>-0.625130</td>\n",
       "      <td>1.397414</td>\n",
       "      <td>-0.536736</td>\n",
       "      <td>0.141703</td>\n",
       "      <td>-0.555524</td>\n",
       "      <td>-0.25354</td>\n",
       "      <td>-1.216618</td>\n",
       "      <td>1.549632</td>\n",
       "    </tr>\n",
       "    <tr>\n",
       "      <th>5</th>\n",
       "      <td>-0.727481</td>\n",
       "      <td>-0.972736</td>\n",
       "      <td>1.397414</td>\n",
       "      <td>-0.880087</td>\n",
       "      <td>0.141703</td>\n",
       "      <td>0.968512</td>\n",
       "      <td>-0.25354</td>\n",
       "      <td>0.821951</td>\n",
       "      <td>-0.645314</td>\n",
       "    </tr>\n",
       "    <tr>\n",
       "      <th>6</th>\n",
       "      <td>0.668434</td>\n",
       "      <td>-0.038545</td>\n",
       "      <td>-0.345432</td>\n",
       "      <td>-0.250611</td>\n",
       "      <td>0.141703</td>\n",
       "      <td>-0.555524</td>\n",
       "      <td>-0.25354</td>\n",
       "      <td>0.821951</td>\n",
       "      <td>-0.645314</td>\n",
       "    </tr>\n",
       "    <tr>\n",
       "      <th>7</th>\n",
       "      <td>0.406700</td>\n",
       "      <td>-1.124814</td>\n",
       "      <td>-1.216855</td>\n",
       "      <td>-0.937312</td>\n",
       "      <td>1.332484</td>\n",
       "      <td>-0.555524</td>\n",
       "      <td>-0.25354</td>\n",
       "      <td>-1.216618</td>\n",
       "      <td>1.549632</td>\n",
       "    </tr>\n",
       "    <tr>\n",
       "      <th>8</th>\n",
       "      <td>-0.901970</td>\n",
       "      <td>0.156983</td>\n",
       "      <td>0.525991</td>\n",
       "      <td>-0.765637</td>\n",
       "      <td>0.141703</td>\n",
       "      <td>0.467055</td>\n",
       "      <td>-0.25354</td>\n",
       "      <td>0.821951</td>\n",
       "      <td>-0.645314</td>\n",
       "    </tr>\n",
       "    <tr>\n",
       "      <th>9</th>\n",
       "      <td>-0.989215</td>\n",
       "      <td>2.307795</td>\n",
       "      <td>-1.216855</td>\n",
       "      <td>3.984049</td>\n",
       "      <td>1.332484</td>\n",
       "      <td>-0.555524</td>\n",
       "      <td>-0.25354</td>\n",
       "      <td>-1.216618</td>\n",
       "      <td>-0.645314</td>\n",
       "    </tr>\n",
       "  </tbody>\n",
       "</table>\n",
       "</div>"
      ],
      "text/plain": [
       "        Age    Income    Family     CCAvg  Education  Mortgage  CD Account  \\\n",
       "0 -1.774417 -0.538229  1.397414 -0.193385  -1.049078 -0.555524    -0.25354   \n",
       "1 -0.029524 -0.864109  0.525991 -0.250611  -1.049078 -0.555524    -0.25354   \n",
       "2 -0.552992 -1.363793 -1.216855 -0.536736  -1.049078 -0.555524    -0.25354   \n",
       "3 -0.901970  0.569765 -1.216855  0.436091   0.141703 -0.555524    -0.25354   \n",
       "4 -0.901970 -0.625130  1.397414 -0.536736   0.141703 -0.555524    -0.25354   \n",
       "5 -0.727481 -0.972736  1.397414 -0.880087   0.141703  0.968512    -0.25354   \n",
       "6  0.668434 -0.038545 -0.345432 -0.250611   0.141703 -0.555524    -0.25354   \n",
       "7  0.406700 -1.124814 -1.216855 -0.937312   1.332484 -0.555524    -0.25354   \n",
       "8 -0.901970  0.156983  0.525991 -0.765637   0.141703  0.467055    -0.25354   \n",
       "9 -0.989215  2.307795 -1.216855  3.984049   1.332484 -0.555524    -0.25354   \n",
       "\n",
       "     Online  CreditCard  \n",
       "0 -1.216618   -0.645314  \n",
       "1 -1.216618   -0.645314  \n",
       "2 -1.216618   -0.645314  \n",
       "3 -1.216618   -0.645314  \n",
       "4 -1.216618    1.549632  \n",
       "5  0.821951   -0.645314  \n",
       "6  0.821951   -0.645314  \n",
       "7 -1.216618    1.549632  \n",
       "8  0.821951   -0.645314  \n",
       "9 -1.216618   -0.645314  "
      ]
     },
     "execution_count": 48,
     "metadata": {},
     "output_type": "execute_result"
    }
   ],
   "source": [
    "# normalize predictors using Z-score normalization\n",
    "\n",
    "z_score_norm = preprocessing.StandardScaler()\n",
    "predictor_df_normalized = z_score_norm.fit_transform(predictors_df1)\n",
    "predictor_df_normalized = pd.DataFrame(predictor_df_normalized, columns = predictors_df1.columns)\n",
    "predictor_df_normalized.head(10)"
   ]
  },
  {
   "cell_type": "markdown",
   "id": "9498a316-b068-4b4b-a496-c09ef40fa3bb",
   "metadata": {},
   "source": [
    "## Part 2: $k$-NN"
   ]
  },
  {
   "cell_type": "code",
   "execution_count": 50,
   "id": "3c7a679b-2abe-4a49-8ffb-44611ad567d4",
   "metadata": {},
   "outputs": [],
   "source": [
    "# partition data into train and test sets\n",
    "\n",
    "X_classifier = predictor_df_normalized\n",
    "y_classifier = response_df\n",
    "train_X_classifier, test_X_classifier, train_y_classifier, test_y_classifier = train_test_split(X_classifier, \n",
    "                                                            y_classifier, test_size=0.3, random_state=616, \n",
    "                                                                                    stratify = y_classifier)"
   ]
  },
  {
   "cell_type": "code",
   "execution_count": 51,
   "id": "75bc073e-22b5-40a5-9b90-630cb032a66c",
   "metadata": {},
   "outputs": [
    {
     "data": {
      "text/plain": [
       "0.8440677966101695"
      ]
     },
     "execution_count": 51,
     "metadata": {},
     "output_type": "execute_result"
    }
   ],
   "source": [
    "# train the k-NN model and look at performance on train data\n",
    "\n",
    "knn = KNeighborsClassifier(n_neighbors=5).fit(train_X_classifier, train_y_classifier)\n",
    "predicted_y_training = knn.predict(train_X_classifier)\n",
    "f1_score(train_y_classifier, predicted_y_training)"
   ]
  },
  {
   "cell_type": "code",
   "execution_count": 52,
   "id": "439c8b8e-c28a-4d03-84d0-531f66cdc125",
   "metadata": {},
   "outputs": [
    {
     "data": {
      "text/plain": [
       "0.7563025210084033"
      ]
     },
     "execution_count": 52,
     "metadata": {},
     "output_type": "execute_result"
    }
   ],
   "source": [
    "# performance of k-NN on test data\n",
    "\n",
    "predicted_y_test = knn.predict(test_X_classifier)\n",
    "f1_score(test_y_classifier, predicted_y_test)"
   ]
  },
  {
   "cell_type": "markdown",
   "id": "f242d666-a018-46b6-920d-9d42f4d93b1d",
   "metadata": {},
   "source": [
    "#### Let's find the optimal value of $k$"
   ]
  },
  {
   "cell_type": "code",
   "execution_count": 54,
   "id": "36ed83b4-2045-462e-9917-f1a818e1c726",
   "metadata": {},
   "outputs": [
    {
     "name": "stdout",
     "output_type": "stream",
     "text": [
      "[{'k': 1, 'f1_score_train': 1.0, 'f1_score_test': 0.789272030651341}, {'k': 2, 'f1_score_train': 0.8433734939759037, 'f1_score_test': 0.7105263157894737}, {'k': 3, 'f1_score_train': 0.8910569105691057, 'f1_score_test': 0.7704918032786885}, {'k': 4, 'f1_score_train': 0.8112874779541446, 'f1_score_test': 0.7280701754385965}, {'k': 5, 'f1_score_train': 0.8440677966101695, 'f1_score_test': 0.7563025210084033}, {'k': 6, 'f1_score_train': 0.7841726618705036, 'f1_score_test': 0.7248908296943232}, {'k': 7, 'f1_score_train': 0.8166089965397924, 'f1_score_test': 0.7350427350427351}, {'k': 8, 'f1_score_train': 0.7695099818511797, 'f1_score_test': 0.6756756756756757}, {'k': 9, 'f1_score_train': 0.7972027972027972, 'f1_score_test': 0.7217391304347827}, {'k': 10, 'f1_score_train': 0.738404452690167, 'f1_score_test': 0.684931506849315}, {'k': 11, 'f1_score_train': 0.7603603603603604, 'f1_score_test': 0.6936936936936937}, {'k': 12, 'f1_score_train': 0.6934865900383141, 'f1_score_test': 0.663594470046083}, {'k': 13, 'f1_score_train': 0.7126865671641791, 'f1_score_test': 0.6877828054298643}, {'k': 14, 'f1_score_train': 0.6653696498054474, 'f1_score_test': 0.6574074074074074}, {'k': 15, 'f1_score_train': 0.676923076923077, 'f1_score_test': 0.6936936936936937}, {'k': 16, 'f1_score_train': 0.6442687747035574, 'f1_score_test': 0.6666666666666666}, {'k': 17, 'f1_score_train': 0.6640926640926641, 'f1_score_test': 0.6909090909090909}, {'k': 18, 'f1_score_train': 0.6388888888888888, 'f1_score_test': 0.6604651162790698}, {'k': 19, 'f1_score_train': 0.6576402321083172, 'f1_score_test': 0.6697247706422018}]\n"
     ]
    }
   ],
   "source": [
    "# train a classifier for different values of k\n",
    "\n",
    "results = []\n",
    "for k in range(1, 20):\n",
    "    knn2 = KNeighborsClassifier(n_neighbors=k).fit(train_X_classifier, train_y_classifier)\n",
    "    results.append({\n",
    "        'k': k,\n",
    "        'f1_score_train': f1_score(train_y_classifier, knn2.predict(train_X_classifier)),\n",
    "        'f1_score_test': f1_score(test_y_classifier, knn2.predict(test_X_classifier))\n",
    "    })\n",
    "\n",
    "# Convert results to a pandas data frame\n",
    "#results = pd.DataFrame(results)\n",
    "print(results)"
   ]
  },
  {
   "cell_type": "code",
   "execution_count": 55,
   "id": "b3d99eca-210b-486b-9ac1-4751797333fe",
   "metadata": {},
   "outputs": [
    {
     "name": "stdout",
     "output_type": "stream",
     "text": [
      "{'k': 1, 'f1_score_train': 1.0, 'f1_score_test': 0.789272030651341}\n",
      "Optimal k: 1\n",
      "F1 score of test data: 0.789272030651341\n"
     ]
    }
   ],
   "source": [
    "# Using max() to find optimal k and F1 test score\n",
    "\n",
    "optimal_entry = max(results, key=lambda x: x['f1_score_test'])\n",
    "optimal_k = optimal_entry['k']\n",
    "optimal_f1_test = optimal_entry['f1_score_test']\n",
    "\n",
    "print(optimal_entry)\n",
    "print(\"Optimal k:\", optimal_k)\n",
    "print(\"F1 score of test data:\", optimal_f1_test)"
   ]
  },
  {
   "cell_type": "markdown",
   "id": "a80f2a23-6bdd-4c4e-ba57-aa2a80008c0a",
   "metadata": {},
   "source": [
    "## Part 3: Logistic regression and model comparison"
   ]
  },
  {
   "cell_type": "code",
   "execution_count": 57,
   "id": "fa53376c-e866-43bd-b2b7-a4d1f121d59d",
   "metadata": {},
   "outputs": [],
   "source": [
    "# train the LR model\n",
    "\n",
    "logistic_model = LogisticRegression(solver='lbfgs').fit(train_X_classifier, train_y_classifier)"
   ]
  },
  {
   "cell_type": "code",
   "execution_count": 58,
   "id": "0c324d6f-cba3-4e43-8e40-1d185024eaac",
   "metadata": {},
   "outputs": [
    {
     "data": {
      "text/plain": [
       "0.7241962774957699"
      ]
     },
     "execution_count": 58,
     "metadata": {},
     "output_type": "execute_result"
    }
   ],
   "source": [
    "# F1 score of train data set\n",
    "\n",
    "predicted_y_training = logistic_model.predict(train_X_classifier)\n",
    "f1_train_lr = f1_score(train_y_classifier, predicted_y_training)\n",
    "f1_train_lr"
   ]
  },
  {
   "cell_type": "code",
   "execution_count": 59,
   "id": "d0a92368-7f7e-4ab0-85dd-97e626d03efa",
   "metadata": {},
   "outputs": [
    {
     "data": {
      "text/plain": [
       "0.7054263565891473"
      ]
     },
     "execution_count": 59,
     "metadata": {},
     "output_type": "execute_result"
    }
   ],
   "source": [
    "# F1 score of the test data set\n",
    "\n",
    "predicted_y_test = logistic_model.predict(test_X_classifier)\n",
    "f1_test_lr = f1_score(test_y_classifier, predicted_y_test)\n",
    "f1_test_lr"
   ]
  },
  {
   "cell_type": "markdown",
   "id": "c8e2ca26-93c5-4731-af65-d2d9593c583e",
   "metadata": {},
   "source": [
    "#### Let's compare $k$-NN to logisitic regression"
   ]
  },
  {
   "cell_type": "code",
   "execution_count": 61,
   "id": "5ed1b77b-f5f9-4ee4-bf15-c0114b159d78",
   "metadata": {},
   "outputs": [
    {
     "name": "stdout",
     "output_type": "stream",
     "text": [
      "\n",
      "                  Model  F1_Train   F1_Test\n",
      "0  Logistic Regression  0.724196  0.705426\n",
      "1           k-NN (k=1)  1.000000  0.789272\n"
     ]
    }
   ],
   "source": [
    "# comparison data frame of f1 scores of logistic regression and k-nn\n",
    "\n",
    "comparison = [\n",
    "    {\n",
    "        'Model': 'Logistic Regression',\n",
    "        'F1_Train': f1_train_lr,\n",
    "        'F1_Test': f1_test_lr\n",
    "    },\n",
    "    {\n",
    "        'Model': f'k-NN (k={optimal_k})',\n",
    "        'F1_Train': optimal_entry['f1_score_train'],\n",
    "        'F1_Test': optimal_entry['f1_score_test']\n",
    "    }\n",
    "]\n",
    "\n",
    "comparison_df = pd.DataFrame(comparison)\n",
    "print(\"\\n\", comparison_df)\n"
   ]
  }
 ],
 "metadata": {
  "kernelspec": {
   "display_name": "Python [conda env:base] *",
   "language": "python",
   "name": "conda-base-py"
  },
  "language_info": {
   "codemirror_mode": {
    "name": "ipython",
    "version": 3
   },
   "file_extension": ".py",
   "mimetype": "text/x-python",
   "name": "python",
   "nbconvert_exporter": "python",
   "pygments_lexer": "ipython3",
   "version": "3.12.7"
  }
 },
 "nbformat": 4,
 "nbformat_minor": 5
}
